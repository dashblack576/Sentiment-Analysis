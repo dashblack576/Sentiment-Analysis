{
 "cells": [
  {
   "cell_type": "code",
   "execution_count": 1,
   "id": "e1653911",
   "metadata": {},
   "outputs": [],
   "source": [
    "import numpy as np\n",
    "import tensorflow as tf\n",
    "from tensorflow import keras\n",
    "from tensorflow.keras import layers\n",
    "import pandas as pd\n",
    "import tensorflow_datasets as tfds\n",
    "import matplotlib.pyplot as plt\n",
    "import os\n",
    "import glob"
   ]
  },
  {
   "cell_type": "code",
   "execution_count": 2,
   "id": "48b50b18",
   "metadata": {},
   "outputs": [
    {
     "name": "stdout",
     "output_type": "stream",
     "text": [
      "Num GPUs Available:  1\n"
     ]
    }
   ],
   "source": [
    "print(\"Num GPUs Available: \", len(tf.config.list_physical_devices('GPU')))"
   ]
  },
  {
   "cell_type": "code",
   "execution_count": 3,
   "id": "e511d809",
   "metadata": {},
   "outputs": [],
   "source": [
    "split = ['train[:70%]', 'train[70%:]']\n",
    "\n",
    "trainDataset, testDataset = tfds.load(name='imdb_reviews', split=split, as_supervised=True)"
   ]
  },
  {
   "cell_type": "code",
   "execution_count": 4,
   "id": "5169175f",
   "metadata": {},
   "outputs": [],
   "source": [
    "BUFFER_SIZE = 10000\n",
    "BATCH_SIZE = 128\n",
    "\n",
    "train_dataset = trainDataset.shuffle(BUFFER_SIZE).batch(BATCH_SIZE).prefetch(tf.data.AUTOTUNE)\n",
    "test_dataset = testDataset.batch(BATCH_SIZE).prefetch(tf.data.AUTOTUNE)"
   ]
  },
  {
   "cell_type": "code",
   "execution_count": 5,
   "id": "734c503f",
   "metadata": {},
   "outputs": [],
   "source": [
    "VOCAB_SIZE = 1000\n",
    "encoder = tf.keras.layers.TextVectorization(\n",
    "    max_tokens=VOCAB_SIZE)\n",
    "\n",
    "encoder.adapt(train_dataset.map(lambda text, label: text))"
   ]
  },
  {
   "cell_type": "code",
   "execution_count": 6,
   "id": "5418b091",
   "metadata": {},
   "outputs": [],
   "source": [
    "\n",
    "SA_RNN = tf.keras.models.Sequential([\n",
    "    encoder,\n",
    "    tf.keras.layers.Embedding(input_dim=len(encoder.get_vocabulary()), output_dim = 128, mask_zero = True),\n",
    "    tf.keras.layers.LSTM(128, return_sequences=True),\n",
    "    tf.keras.layers.GRU(128),\n",
    "    tf.keras.layers.Dense(64,activation='relu'),\n",
    "    tf.keras.layers.Dense(1)\n",
    "])"
   ]
  },
  {
   "cell_type": "code",
   "execution_count": 17,
   "id": "8343f2f6",
   "metadata": {},
   "outputs": [],
   "source": [
    "SA_RNN.compile(loss=tf.keras.losses.BinaryCrossentropy(from_logits=True), optimizer=tf.keras.optimizers.Adam(0.001), metrics=['accuracy'])"
   ]
  },
  {
   "cell_type": "code",
   "execution_count": 18,
   "id": "0c310fc2",
   "metadata": {
    "scrolled": true
   },
   "outputs": [
    {
     "name": "stdout",
     "output_type": "stream",
     "text": [
      "Epoch 1/10\n",
      "137/137 [==============================] - 21s 115ms/step - loss: 0.5532 - accuracy: 0.7149\n",
      "Epoch 2/10\n",
      "137/137 [==============================] - 16s 113ms/step - loss: 0.4116 - accuracy: 0.8083\n",
      "Epoch 3/10\n",
      "137/137 [==============================] - 16s 114ms/step - loss: 0.3427 - accuracy: 0.8554\n",
      "Epoch 4/10\n",
      "137/137 [==============================] - 16s 114ms/step - loss: 0.3373 - accuracy: 0.8566\n",
      "Epoch 5/10\n",
      "137/137 [==============================] - 16s 115ms/step - loss: 0.4021 - accuracy: 0.8149\n",
      "Epoch 6/10\n",
      "137/137 [==============================] - 16s 114ms/step - loss: 0.3355 - accuracy: 0.8538\n",
      "Epoch 7/10\n",
      "137/137 [==============================] - 16s 114ms/step - loss: 0.3144 - accuracy: 0.8634\n",
      "Epoch 8/10\n",
      "137/137 [==============================] - 16s 114ms/step - loss: 0.2839 - accuracy: 0.8806\n",
      "Epoch 9/10\n",
      "137/137 [==============================] - 16s 115ms/step - loss: 0.2884 - accuracy: 0.8802\n",
      "Epoch 10/10\n",
      "137/137 [==============================] - 16s 119ms/step - loss: 0.2763 - accuracy: 0.8821\n"
     ]
    },
    {
     "data": {
      "text/plain": [
       "<keras.callbacks.History at 0x127f981b340>"
      ]
     },
     "execution_count": 18,
     "metadata": {},
     "output_type": "execute_result"
    }
   ],
   "source": [
    "SA_RNN.fit(train_dataset, epochs = 10)"
   ]
  },
  {
   "cell_type": "code",
   "execution_count": 22,
   "id": "6e616ee2",
   "metadata": {},
   "outputs": [
    {
     "name": "stdout",
     "output_type": "stream",
     "text": [
      "1/1 [==============================] - 0s 19ms/step\n",
      "This review is negetive [[-0.5577238]]\n"
     ]
    }
   ],
   "source": [
    "review = 'The Hottie and the Nottie is a crass, predictable, and ineptly staged gross-out comedy that serves little purpose beyond existing as another monument to Paris Hiltons vanity'\n",
    "\n",
    "prediction = SA_RNN.predict(np.array([review]))\n",
    "\n",
    "if prediction >= 0.0:\n",
    "    print(\"This review is positive\", prediction)\n",
    "else:\n",
    "    print(\"This review is negetive\", prediction)\n"
   ]
  },
  {
   "cell_type": "code",
   "execution_count": null,
   "id": "8d0ca85d",
   "metadata": {},
   "outputs": [],
   "source": []
  }
 ],
 "metadata": {
  "kernelspec": {
   "display_name": "Python 3 (ipykernel)",
   "language": "python",
   "name": "python3"
  },
  "language_info": {
   "codemirror_mode": {
    "name": "ipython",
    "version": 3
   },
   "file_extension": ".py",
   "mimetype": "text/x-python",
   "name": "python",
   "nbconvert_exporter": "python",
   "pygments_lexer": "ipython3",
   "version": "3.9.12"
  }
 },
 "nbformat": 4,
 "nbformat_minor": 5
}
